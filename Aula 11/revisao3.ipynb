{
 "cells": [
  {
   "cell_type": "code",
   "execution_count": 28,
   "metadata": {},
   "outputs": [
    {
     "name": "stdout",
     "output_type": "stream",
     "text": [
      "Requirement already satisfied: requests in c:\\users\\giovannamendesteixei\\appdata\\local\\programs\\python\\python312\\lib\\site-packages (2.32.3)\n",
      "Requirement already satisfied: charset-normalizer<4,>=2 in c:\\users\\giovannamendesteixei\\appdata\\local\\programs\\python\\python312\\lib\\site-packages (from requests) (3.4.0)\n",
      "Requirement already satisfied: idna<4,>=2.5 in c:\\users\\giovannamendesteixei\\appdata\\local\\programs\\python\\python312\\lib\\site-packages (from requests) (3.10)\n",
      "Requirement already satisfied: urllib3<3,>=1.21.1 in c:\\users\\giovannamendesteixei\\appdata\\local\\programs\\python\\python312\\lib\\site-packages (from requests) (2.2.3)\n",
      "Requirement already satisfied: certifi>=2017.4.17 in c:\\users\\giovannamendesteixei\\appdata\\local\\programs\\python\\python312\\lib\\site-packages (from requests) (2024.8.30)\n",
      "Note: you may need to restart the kernel to use updated packages.\n"
     ]
    },
    {
     "name": "stderr",
     "output_type": "stream",
     "text": [
      "\n",
      "[notice] A new release of pip is available: 24.0 -> 24.3.1\n",
      "[notice] To update, run: python.exe -m pip install --upgrade pip\n"
     ]
    }
   ],
   "source": [
    "pip install requests"
   ]
  },
  {
   "cell_type": "code",
   "execution_count": 29,
   "metadata": {},
   "outputs": [],
   "source": [
    "import requests\n",
    "import json"
   ]
  },
  {
   "cell_type": "code",
   "execution_count": 30,
   "metadata": {},
   "outputs": [],
   "source": [
    "url = \"https://economia.awesomeapi.com.br/json/last/USD-BRL\""
   ]
  },
  {
   "cell_type": "markdown",
   "metadata": {},
   "source": [
    "COTAÇÃO ATUAL"
   ]
  },
  {
   "cell_type": "code",
   "execution_count": 31,
   "metadata": {},
   "outputs": [],
   "source": [
    "cotacao = requests.get(url).content"
   ]
  },
  {
   "cell_type": "markdown",
   "metadata": {},
   "source": [
    "LER ARQUIVO JSON"
   ]
  },
  {
   "cell_type": "code",
   "execution_count": 32,
   "metadata": {},
   "outputs": [],
   "source": [
    "dic = json.loads(cotacao)"
   ]
  },
  {
   "cell_type": "markdown",
   "metadata": {},
   "source": [
    "VISUALIZAR O VALOR DO DOLAR"
   ]
  },
  {
   "cell_type": "code",
   "execution_count": 33,
   "metadata": {},
   "outputs": [
    {
     "name": "stdout",
     "output_type": "stream",
     "text": [
      "dict_values([{'code': 'USD', 'codein': 'BRL', 'name': 'Dólar Americano/Real Brasileiro', 'high': '5.8175', 'low': '5.7235', 'varBid': '0.0005', 'pctChange': '0.01', 'bid': '5.8061', 'ask': '5.8071', 'timestamp': '1731533401', 'create_date': '2024-11-13 18:30:01'}])\n"
     ]
    }
   ],
   "source": [
    "dic[\"USDBRL\"][\"bid\"]\n",
    "print(dic.values())"
   ]
  },
  {
   "cell_type": "markdown",
   "metadata": {},
   "source": [
    "EXERCICÍOS\n",
    "° Crie uma lista em reais com OS VALORES: 1,2,5,10,50,100 e 200. Faça a convensão de reais para dolar atual. Mostre em tela as duas comparações."
   ]
  },
  {
   "cell_type": "code",
   "execution_count": 34,
   "metadata": {},
   "outputs": [
    {
     "name": "stdout",
     "output_type": "stream",
     "text": [
      "n°  USD   BRL   \n",
      "0   0.17  1     \n",
      "1   0.34  2     \n",
      "2   0.86  5     \n",
      "3   1.72  10    \n",
      "4   3.44  20    \n",
      "5   8.61  50    \n",
      "6   17.22 100   \n"
     ]
    }
   ],
   "source": [
    "import requests\n",
    "import json\n",
    "\n",
    "reais = [1,2,5,10,20,50,100,200]\n",
    "cotacao = requests.get(url).content\n",
    "dic = json.loads(cotacao)\n",
    "dolar = [round(x/float(dic[\"USDBRL\"][\"bid\"]),2)for x in reais]\n",
    "\n",
    "print(\"{:<4}{:<6}{:<6}\".format(\"n°\",\"USD\",\"BRL\"))\n",
    "for x in range(0,len(reais)-1):\n",
    "    print(\"{:<4}{:<6}{:<6}\".format(x,dolar[x],reais[x]))"
   ]
  },
  {
   "cell_type": "markdown",
   "metadata": {},
   "source": [
    "EXERCICÍOS 2\n",
    "° Crie uma lista em reais com OS VALORES: 1,2,5,10,50,100 e 200. Faça a convensão de reais para euro atual. Mostre em tela as duas comparações."
   ]
  },
  {
   "cell_type": "code",
   "execution_count": 36,
   "metadata": {},
   "outputs": [
    {
     "name": "stdout",
     "output_type": "stream",
     "text": [
      "N°  BRL   EUR   \n",
      "1   1     0.16  \n",
      "2   2     0.33  \n",
      "3   5     0.82  \n",
      "4   10    1.63  \n",
      "5   20    3.26  \n",
      "6   50    8.16  \n",
      "7   100   16.32 \n",
      "8   200   32.64 \n"
     ]
    }
   ],
   "source": [
    "url = \"https://economia.awesomeapi.com.br/json/last/EUR-BRL\"\n",
    "\n",
    "import requests\n",
    "import json\n",
    "\n",
    "reais = [1,2,5,10,20,50,100,200]\n",
    "cotacao = requests.get(url).content\n",
    "dic = json.loads(cotacao)\n",
    "euro = [round(x/float(dic[\"EURBRL\"][\"bid\"]),2)for x in reais]\n",
    "\n",
    "print(\"{:<4}{:<6}{:<6}\".format(\"N°\",\"BRL\",\"EUR\"))\n",
    "for x in range(0,len(reais)):\n",
    "    print(\"{:<4}{:<6}{:<6}\".format(x+1,reais[x],euro[x]))"
   ]
  },
  {
   "cell_type": "code",
   "execution_count": 37,
   "metadata": {},
   "outputs": [
    {
     "ename": "NameError",
     "evalue": "name 'url1' is not defined",
     "output_type": "error",
     "traceback": [
      "\u001b[1;31m---------------------------------------------------------------------------\u001b[0m",
      "\u001b[1;31mNameError\u001b[0m                                 Traceback (most recent call last)",
      "Cell \u001b[1;32mIn[37], line 5\u001b[0m\n\u001b[0;32m      2\u001b[0m url \u001b[38;5;241m=\u001b[39m \u001b[38;5;124m\"\u001b[39m\u001b[38;5;124mhttps://economia.awesomeapi.com.br/json/last/EUR-BRL\u001b[39m\u001b[38;5;124m\"\u001b[39m\n\u001b[0;32m      3\u001b[0m url \u001b[38;5;241m=\u001b[39m \u001b[38;5;124m\"\u001b[39m\u001b[38;5;124mhttps://economia.awesomeapi.com.br/json/last/ARS-BRL\u001b[39m\u001b[38;5;124m\"\u001b[39m\n\u001b[1;32m----> 5\u001b[0m cot1 \u001b[38;5;241m=\u001b[39m requests\u001b[38;5;241m.\u001b[39mget(\u001b[43murl1\u001b[49m)\u001b[38;5;241m.\u001b[39mcontent\n\u001b[0;32m      6\u001b[0m cot2 \u001b[38;5;241m=\u001b[39m requests\u001b[38;5;241m.\u001b[39mget(url2)\u001b[38;5;241m.\u001b[39mcontent\n\u001b[0;32m      7\u001b[0m cot3 \u001b[38;5;241m=\u001b[39m requests\u001b[38;5;241m.\u001b[39mget(url3)\u001b[38;5;241m.\u001b[39mcontent\n",
      "\u001b[1;31mNameError\u001b[0m: name 'url1' is not defined"
     ]
    }
   ],
   "source": [
    "url = \"https://economia.awesomeapi.com.br/json/last/USD-BRL\"\n",
    "url = \"https://economia.awesomeapi.com.br/json/last/EUR-BRL\"\n",
    "url = \"https://economia.awesomeapi.com.br/json/last/ARS-BRL\"\n",
    "\n",
    "cot1 = requests.get(url1).content\n",
    "cot2 = requests.get(url2).content\n",
    "cot3 = requests.get(url3).content\n",
    "\n",
    "dic1 = json.loads(cot1)\n",
    "dic2 = json.loads(cot2)\n",
    "dic3= json.loads(cot3)\n",
    "\n",
    "reais = [1,2,5,10, 20, 50, 100, 200]\n",
    "euro = [round(x/float(dic1[\"EURBRL\"][\"bid\"]), 2) for x in reais]\n",
    "dolar = [round(x/float(dic2[\"USDBRL\"][\"bid\"]), 2) for x in reais]\n",
    "peso = [round(x/float(dic3[\"ARSBRL\"][\"bid\"]), 2) for x in reais]\n",
    "\n",
    "print(\"{:<6}{:<6}{:<6}{:<6}{:<6}\".format(\"No\", \"BRL\", \"EUR\", \"USD\", \"ARS\"))\n",
    "print(\"__________________________________\")\n",
    "for x in range(0,len(reais)):\n",
    "   print(\"{:<6}{:<6}{:<6}{:<6}{:<6}\".format(x, reais[x], euro [x], dolar [x], peso [x1]))"
   ]
  }
 ],
 "metadata": {
  "kernelspec": {
   "display_name": "Python 3",
   "language": "python",
   "name": "python3"
  },
  "language_info": {
   "codemirror_mode": {
    "name": "ipython",
    "version": 3
   },
   "file_extension": ".py",
   "mimetype": "text/x-python",
   "name": "python",
   "nbconvert_exporter": "python",
   "pygments_lexer": "ipython3",
   "version": "3.12.3"
  }
 },
 "nbformat": 4,
 "nbformat_minor": 2
}
