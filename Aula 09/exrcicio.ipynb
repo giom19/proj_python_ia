{
  "cells": [
    {
      "cell_type": "markdown",
      "metadata": {
        "id": "ptjFDwcs6H1l"
      },
      "source": [
        "pip é o gerenciador do python, responsavel pela instalação das bibliotecas usadas pela linguagem."
      ]
    },
    {
      "cell_type": "code",
      "execution_count": 19,
      "metadata": {
        "colab": {
          "base_uri": "https://localhost:8080/"
        },
        "id": "p_x8OhdR5N0x",
        "outputId": "c2dd1a42-79b8-4fa7-e97b-08cf7f55bb04"
      },
      "outputs": [
        {
          "name": "stdout",
          "output_type": "stream",
          "text": [
            "Requirement already satisfied: nltk in /usr/local/lib/python3.10/dist-packages (3.8.1)\n",
            "Requirement already satisfied: textblob in /usr/local/lib/python3.10/dist-packages (0.17.1)\n",
            "Requirement already satisfied: click in /usr/local/lib/python3.10/dist-packages (from nltk) (8.1.7)\n",
            "Requirement already satisfied: joblib in /usr/local/lib/python3.10/dist-packages (from nltk) (1.4.2)\n",
            "Requirement already satisfied: regex>=2021.8.3 in /usr/local/lib/python3.10/dist-packages (from nltk) (2024.9.11)\n",
            "Requirement already satisfied: tqdm in /usr/local/lib/python3.10/dist-packages (from nltk) (4.66.5)\n"
          ]
        }
      ],
      "source": [
        "pip install nltk textblob"
      ]
    },
    {
      "cell_type": "code",
      "execution_count": 26,
      "metadata": {
        "id": "Rmeyz5WW6pHh"
      },
      "outputs": [],
      "source": [
        "import nltk\n",
        "from nltk.corpus import stopwords\n",
        "from nltk.tokenize import word_tokenize\n",
        "from textblob import TextBlob"
      ]
    },
    {
      "cell_type": "markdown",
      "metadata": {
        "id": "ZpEJLxZo98rg"
      },
      "source": [
        "baixar os componentes NLTK necessários"
      ]
    },
    {
      "cell_type": "code",
      "execution_count": 27,
      "metadata": {
        "colab": {
          "base_uri": "https://localhost:8080/"
        },
        "id": "LGFVffLo9OHc",
        "outputId": "2555128e-9ada-461d-b69d-e26b515a1a8f"
      },
      "outputs": [
        {
          "name": "stderr",
          "output_type": "stream",
          "text": [
            "[nltk_data] Downloading package punkt to /root/nltk_data...\n",
            "[nltk_data]   Package punkt is already up-to-date!\n",
            "[nltk_data] Downloading package stopwords to /root/nltk_data...\n",
            "[nltk_data]   Package stopwords is already up-to-date!\n"
          ]
        },
        {
          "data": {
            "text/plain": [
              "True"
            ]
          },
          "execution_count": 27,
          "metadata": {},
          "output_type": "execute_result"
        }
      ],
      "source": [
        "nltk.download('punkt')\n",
        "nltk.download('stopwords')"
      ]
    },
    {
      "cell_type": "markdown",
      "metadata": {
        "id": "dq3Z8C_V_37O"
      },
      "source": [
        "Função de pré processamento de texto\n"
      ]
    },
    {
      "cell_type": "code",
      "execution_count": 28,
      "metadata": {
        "id": "L8nq46yvAEKo"
      },
      "outputs": [],
      "source": [
        "def preprocesso(texto):\n",
        "    #Tokenização\n",
        "  tokes = word_tokenize(texto.lower())\n",
        "\n",
        "  #Remover os espaços das frases\n",
        "  espacos = set(stopwords.words('english'))\n",
        "\n",
        "  #Filtrando os tokens\n",
        "  Tokens_filtrados = [palavra for palavra in tokes if palavra.isalnum() and palavra not in espacos]\n",
        "\n",
        "  #Retorno da fução\n",
        "  return ''.join(Tokens_filtrados)"
      ]
    },
    {
      "cell_type": "markdown",
      "metadata": {
        "id": "PdPokbXTHzgn"
      },
      "source": [
        "Fução para analise de sentimentos\n"
      ]
    },
    {
      "cell_type": "code",
      "execution_count": 29,
      "metadata": {
        "id": "nZnmvFZPRsEH"
      },
      "outputs": [],
      "source": [
        "def sentimentos(texto):\n",
        "\n",
        "  #Limpando o texto digitado\n",
        "  texto_limpo = preprocesso\n",
        "\n",
        "  #Analise de sentimentos do texto\n",
        "  blob = TextBlob(texto_limpo)\n",
        "\n",
        "  #Aplicando a polaridade do sentimento\n",
        "  sentimentos = blob.sentiment.polarity\n",
        "\n",
        "  #Retornando a pontuação\n",
        "  return sentimentos"
      ]
    },
    {
      "cell_type": "markdown",
      "metadata": {
        "id": "DW3lv1yaLFen"
      },
      "source": [
        "lista de frases com sentimentos"
      ]
    },
    {
      "cell_type": "code",
      "execution_count": 32,
      "metadata": {
        "id": "qj3P0FBeNLNo"
      },
      "outputs": [],
      "source": [
        "Frases = [\"This app helped me find my perfect match; the user experience is seamless and intuitive!\",\n",
        "          \"The variety of profiles is amazing, making it easy to connect with interesting people.\",\n",
        "          \"I love the messaging feature; it allows for meaningful conversations right from the start!\",\n",
        "          \"This app has a fantastic community; everyone is supportive and friendly.\",\n",
        "          \"The design is modern and appealing, making the whole experience enjoyable!\",\n",
        "          \"I encountered too many fake profiles, which made the experience frustrating.,\",\n",
        "          \"The matching algorithm seems off; I keep getting suggestions that don’t align with my interests.\",\n",
        "          \"The app crashes frequently, making it hard to have smooth conversations.\",\n",
        "          \"I wish there were more filters to refine my search; it feels overwhelming at times.\",\n",
        "          \"Customer support is lacking; it took too long to get a response to my issue.\"]"
      ]
    },
    {
      "cell_type": "markdown",
      "metadata": {
        "id": "S0FOYQL4NYrX"
      },
      "source": [
        "Exibindo a frase e sua pontuação"
      ]
    },
    {
      "cell_type": "code",
      "execution_count": 33,
      "metadata": {
        "colab": {
          "base_uri": "https://localhost:8080/"
        },
        "id": "aeQQ2qJiNfrB",
        "outputId": "f1859205-3540-4c02-9bed-0dd1d468b88c"
      },
      "outputs": [
        {
          "name": "stdout",
          "output_type": "stream",
          "text": [
            "This app helped me find my perfect match; the user experience is seamless and intuitive!: This app helped me find my perfect match; the user experience is seamless and intuitive!\n",
            "Pontuação:0.0\n",
            "The variety of profiles is amazing, making it easy to connect with interesting people.: The variety of profiles is amazing, making it easy to connect with interesting people.\n",
            "Pontuação:0.0\n",
            "I love the messaging feature; it allows for meaningful conversations right from the start!: I love the messaging feature; it allows for meaningful conversations right from the start!\n",
            "Pontuação:0.0\n",
            "This app has a fantastic community; everyone is supportive and friendly.: This app has a fantastic community; everyone is supportive and friendly.\n",
            "Pontuação:0.0\n",
            "The design is modern and appealing, making the whole experience enjoyable!: The design is modern and appealing, making the whole experience enjoyable!\n",
            "Pontuação:0.0\n",
            "I encountered too many fake profiles, which made the experience frustrating.,: I encountered too many fake profiles, which made the experience frustrating.,\n",
            "Pontuação:0.0\n",
            "The matching algorithm seems off; I keep getting suggestions that don’t align with my interests.: The matching algorithm seems off; I keep getting suggestions that don’t align with my interests.\n",
            "Pontuação:0.0\n",
            "The app crashes frequently, making it hard to have smooth conversations.: The app crashes frequently, making it hard to have smooth conversations.\n",
            "Pontuação:0.0\n",
            "I wish there were more filters to refine my search; it feels overwhelming at times.: I wish there were more filters to refine my search; it feels overwhelming at times.\n",
            "Pontuação:0.0\n",
            "Customer support is lacking; it took too long to get a response to my issue.: Customer support is lacking; it took too long to get a response to my issue.\n",
            "Pontuação:0.0\n"
          ]
        }
      ],
      "source": [
        "for comentario in Frases:\n",
        "  nivel = sentimento(comentario)\n",
        "  print(f\"{comentario}: {comentario}\\nPontuação:{nivel}\")"
      ]
    }
  ],
  "metadata": {
    "colab": {
      "provenance": []
    },
    "kernelspec": {
      "display_name": "Python 3",
      "name": "python3"
    },
    "language_info": {
      "name": "python"
    }
  },
  "nbformat": 4,
  "nbformat_minor": 0
}
